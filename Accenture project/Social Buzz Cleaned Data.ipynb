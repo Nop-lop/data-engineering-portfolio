{
 "cells":[
  {
   "cell_type":"markdown",
   "source":[
    "### 1. Import libraries and load data"
   ],
   "attachments":{
    
   },
   "metadata":{
    "datalore":{
     "node_id":"E9xBkRTHFTlVhhTxDvgdXC",
     "type":"MD",
     "hide_input_from_viewers":false,
     "hide_output_from_viewers":false,
     "report_properties":{
      
     }
    }
   }
  },
  {
   "cell_type":"code",
   "source":[
    "import pandas as pd\n",
    "\n",
    "# Load data from csv files\n",
    "content = pd.read_csv(\"Content.csv\")\n",
    "reaction_types = pd.read_csv('ReactionTypes.csv')\n",
    "reactions = pd.read_csv('Reactions.csv')"
   ],
   "execution_count":1,
   "outputs":[
    
   ],
   "metadata":{
    "datalore":{
     "node_id":"ztDpxLnOwdJEE8HcB9CmD5",
     "type":"CODE",
     "hide_input_from_viewers":false,
     "hide_output_from_viewers":false,
     "report_properties":{
      
     }
    }
   }
  },
  {
   "cell_type":"markdown",
   "source":[
    "### 2. Inspect, Delete obsolete columns and Create dataframe"
   ],
   "attachments":{
    
   },
   "metadata":{
    "datalore":{
     "node_id":"QIkZd5bSr1kXWutpNH61bz",
     "type":"MD",
     "hide_input_from_viewers":false,
     "hide_output_from_viewers":false,
     "report_properties":{
      
     }
    }
   }
  },
  {
   "cell_type":"code",
   "source":[
    "# Droping unneeded columns, renaming and checking data types\n",
    "content.drop(['Unnamed: 0','User ID','URL'],axis=1, inplace=True)\n",
    "print(content.info())\n",
    "\n",
    "reactions.drop(['Unnamed: 0','User ID'], axis=1, inplace=True)\n",
    "print(reactions.info())\n",
    "\n",
    "reaction_types.drop('Unnamed: 0', axis=1, inplace=True)\n",
    "print(reaction_types.info())"
   ],
   "execution_count":2,
   "outputs":[
    {
     "name":"stdout",
     "text":[
      "<class 'pandas.core.frame.DataFrame'>\n",
      "RangeIndex: 1000 entries, 0 to 999\n",
      "Data columns (total 3 columns):\n",
      " #   Column      Non-Null Count  Dtype \n",
      "---  ------      --------------  ----- \n",
      " 0   Content ID  1000 non-null   object\n",
      " 1   Type        1000 non-null   object\n",
      " 2   Category    1000 non-null   object\n",
      "dtypes: object(3)\n",
      "memory usage: 23.6+ KB\n",
      "None\n",
      "<class 'pandas.core.frame.DataFrame'>\n",
      "RangeIndex: 25553 entries, 0 to 25552\n",
      "Data columns (total 3 columns):\n",
      " #   Column      Non-Null Count  Dtype \n",
      "---  ------      --------------  ----- \n",
      " 0   Content ID  25553 non-null  object\n",
      " 1   Type        24573 non-null  object\n",
      " 2   Datetime    25553 non-null  object\n",
      "dtypes: object(3)\n",
      "memory usage: 599.0+ KB\n",
      "None\n",
      "<class 'pandas.core.frame.DataFrame'>\n",
      "RangeIndex: 16 entries, 0 to 15\n",
      "Data columns (total 3 columns):\n",
      " #   Column     Non-Null Count  Dtype \n",
      "---  ------     --------------  ----- \n",
      " 0   Type       16 non-null     object\n",
      " 1   Sentiment  16 non-null     object\n",
      " 2   Score      16 non-null     int64 \n",
      "dtypes: int64(1), object(2)\n",
      "memory usage: 512.0+ bytes\n",
      "None\n"
     ],
     "output_type":"stream"
    }
   ],
   "metadata":{
    "datalore":{
     "node_id":"l85PVcwSVKonaY75K43kgX",
     "type":"CODE",
     "hide_input_from_viewers":false,
     "hide_output_from_viewers":false,
     "report_properties":{
      
     }
    }
   }
  },
  {
   "cell_type":"code",
   "source":[
    "# Create a Dataframe by merging data\n",
    "reactions = reactions.rename(columns={\"Type\":\"Reaction_type\"})\n",
    "\n",
    "\n",
    "df = reactions.merge(content, how=\"left\", on=\"Content ID\")\n",
    "df = df.rename(columns={'Type_x':'Reaction_type','Type':'Content_type'})\n",
    "print(df.head(8))\n",
    "\n",
    "reaction_types = reaction_types.rename(columns={\"Type\":\"Reaction_type\"})\n",
    "df = df.merge(reaction_types, how=\"left\", on='Reaction_type')\n",
    "print(df.head(8))\n",
    "\n",
    "\n",
    "print(df.isnull().sum()) # checking for null values"
   ],
   "execution_count":3,
   "outputs":[
    {
     "name":"stdout",
     "text":[
      "                             Content ID Reaction_type             Datetime  \\\n",
      "0  97522e57-d9ab-4bd6-97bf-c24d952602d2           NaN  2021-04-22 15:17:15   \n",
      "1  97522e57-d9ab-4bd6-97bf-c24d952602d2       disgust  2020-11-07 09:43:50   \n",
      "2  97522e57-d9ab-4bd6-97bf-c24d952602d2       dislike  2021-06-17 12:22:51   \n",
      "3  97522e57-d9ab-4bd6-97bf-c24d952602d2        scared  2021-04-18 05:13:58   \n",
      "4  97522e57-d9ab-4bd6-97bf-c24d952602d2       disgust  2021-01-06 19:13:01   \n",
      "5  97522e57-d9ab-4bd6-97bf-c24d952602d2    interested  2020-08-23 12:25:58   \n",
      "6  97522e57-d9ab-4bd6-97bf-c24d952602d2       peeking  2020-12-07 06:27:54   \n",
      "7  97522e57-d9ab-4bd6-97bf-c24d952602d2       cherish  2021-04-11 17:35:49   \n",
      "\n",
      "  Content_type  Category  \n",
      "0        photo  Studying  \n",
      "1        photo  Studying  \n",
      "2        photo  Studying  \n",
      "3        photo  Studying  \n",
      "4        photo  Studying  \n",
      "5        photo  Studying  \n",
      "6        photo  Studying  \n",
      "7        photo  Studying  \n",
      "                             Content ID Reaction_type             Datetime  \\\n",
      "0  97522e57-d9ab-4bd6-97bf-c24d952602d2           NaN  2021-04-22 15:17:15   \n",
      "1  97522e57-d9ab-4bd6-97bf-c24d952602d2       disgust  2020-11-07 09:43:50   \n",
      "2  97522e57-d9ab-4bd6-97bf-c24d952602d2       dislike  2021-06-17 12:22:51   \n",
      "3  97522e57-d9ab-4bd6-97bf-c24d952602d2        scared  2021-04-18 05:13:58   \n",
      "4  97522e57-d9ab-4bd6-97bf-c24d952602d2       disgust  2021-01-06 19:13:01   \n",
      "5  97522e57-d9ab-4bd6-97bf-c24d952602d2    interested  2020-08-23 12:25:58   \n",
      "6  97522e57-d9ab-4bd6-97bf-c24d952602d2       peeking  2020-12-07 06:27:54   \n",
      "7  97522e57-d9ab-4bd6-97bf-c24d952602d2       cherish  2021-04-11 17:35:49   \n",
      "\n",
      "  Content_type  Category Sentiment  Score  \n",
      "0        photo  Studying       NaN    NaN  \n",
      "1        photo  Studying  negative    0.0  \n",
      "2        photo  Studying  negative   10.0  \n",
      "3        photo  Studying  negative   15.0  \n",
      "4        photo  Studying  negative    0.0  \n",
      "5        photo  Studying  positive   30.0  \n",
      "6        photo  Studying   neutral   35.0  \n",
      "7        photo  Studying  positive   70.0  \n",
      "Content ID         0\n",
      "Reaction_type    980\n",
      "Datetime           0\n",
      "Content_type       0\n",
      "Category           0\n",
      "Sentiment        980\n",
      "Score            980\n",
      "dtype: int64\n"
     ],
     "output_type":"stream"
    }
   ],
   "metadata":{
    "datalore":{
     "node_id":"4J47gphBhGpTu30fLgalwl",
     "type":"CODE",
     "hide_input_from_viewers":false,
     "hide_output_from_viewers":false,
     "report_properties":{
      
     }
    }
   }
  },
  {
   "cell_type":"markdown",
   "source":[
    "### 3. Data Cleaning"
   ],
   "attachments":{
    
   },
   "metadata":{
    "datalore":{
     "node_id":"Oq3c67mzB7rCgKBafd8M6Y",
     "type":"MD",
     "hide_input_from_viewers":false,
     "hide_output_from_viewers":false,
     "report_properties":{
      
     }
    }
   }
  },
  {
   "cell_type":"code",
   "source":[
    "# Delete rows with null values in content_type\n",
    "df = df.dropna(subset=[\"Content_type\"])\n",
    "df.info()\n",
    "\n",
    "# Identify unique categories\n",
    "print(df['Category'].unique())\n",
    "print(df['Category'].nunique())\n",
    "\n",
    "\n",
    "# format quotations to single quotations\n",
    "df['Category'] = df.Category.replace('\"','',regex=True)\n",
    "df['Category'] = df.Category.str.lower()\n",
    "print(df['Category'].nunique())"
   ],
   "execution_count":4,
   "outputs":[
    {
     "name":"stdout",
     "text":[
      "<class 'pandas.core.frame.DataFrame'>\n",
      "Int64Index: 25553 entries, 0 to 25552\n",
      "Data columns (total 7 columns):\n",
      " #   Column         Non-Null Count  Dtype  \n",
      "---  ------         --------------  -----  \n",
      " 0   Content ID     25553 non-null  object \n",
      " 1   Reaction_type  24573 non-null  object \n",
      " 2   Datetime       25553 non-null  object \n",
      " 3   Content_type   25553 non-null  object \n",
      " 4   Category       25553 non-null  object \n",
      " 5   Sentiment      24573 non-null  object \n",
      " 6   Score          24573 non-null  float64\n",
      "dtypes: float64(1), object(6)\n",
      "memory usage: 1.6+ MB\n",
      "['Studying' 'healthy eating' 'technology' 'food' 'cooking' 'dogs' 'soccer'\n",
      " 'public speaking' 'science' 'tennis' 'travel' 'fitness' 'education'\n",
      " 'studying' 'veganism' 'Animals' 'animals' 'culture' '\"culture\"' 'Fitness'\n",
      " '\"studying\"' 'Veganism' '\"animals\"' 'Travel' '\"soccer\"' 'Education'\n",
      " '\"dogs\"' 'Technology' 'Soccer' '\"tennis\"' 'Culture' '\"food\"' 'Food'\n",
      " '\"technology\"' 'Healthy Eating' '\"cooking\"' 'Science' '\"public speaking\"'\n",
      " '\"veganism\"' 'Public Speaking' '\"science\"']\n",
      "41\n",
      "16\n"
     ],
     "output_type":"stream"
    }
   ],
   "metadata":{
    "datalore":{
     "node_id":"iQ8QpWEmxXP5c94pnEHuIs",
     "type":"CODE",
     "hide_input_from_viewers":false,
     "hide_output_from_viewers":false,
     "report_properties":{
      
     }
    }
   }
  },
  {
   "cell_type":"markdown",
   "source":[
    "### 4. Top 5 Aggregate Categories"
   ],
   "attachments":{
    
   },
   "metadata":{
    "datalore":{
     "node_id":"SO9G9vVAa6XttGPCJmTuT1",
     "type":"MD",
     "hide_input_from_viewers":false,
     "hide_output_from_viewers":false,
     "report_properties":{
      
     }
    }
   }
  },
  {
   "cell_type":"code",
   "source":[
    "# Using the SQL logic below with pandas\n",
    "# SELECT  *, sum(score) as 'Top 5 Categories' FROM df\n",
    "# WHERE content_type is not null\n",
    "# group by 1\n",
    "# order by 2 desc\n",
    "# limit 5\n",
    "\n",
    "df.to_csv('clean_accentdata.csv') # Cleaned data csv\n",
    "\n",
    "''' Note: NaN values in sentiment,reactions & scores are Structurally Missing Data since without a reaction, there's no sentiment or score that can be associated with the content '''\n",
    "\n",
    "sum_cat_df = df.groupby('Category').Score.sum() # total scores in each category\n",
    "sum_cat_df = sum_cat_df.sort_values(ascending=False)\n",
    "\n",
    "print(sum_cat_df.head())"
   ],
   "execution_count":5,
   "outputs":[
    {
     "name":"stdout",
     "text":[
      "Category\n",
      "animals           74965.0\n",
      "science           71168.0\n",
      "healthy eating    69339.0\n",
      "technology        68738.0\n",
      "food              66676.0\n",
      "Name: Score, dtype: float64\n"
     ],
     "output_type":"stream"
    }
   ],
   "metadata":{
    "datalore":{
     "node_id":"iCGapfYKqQyPbTjptqA4Dk",
     "type":"CODE",
     "hide_input_from_viewers":false,
     "hide_output_from_viewers":false,
     "report_properties":{
      
     }
    }
   }
  },
  {
   "cell_type":"code",
   "source":[
    "reaction_types = pd.read_csv('ReactionTypes.csv')\n",
    "reaction_types"
   ],
   "execution_count":6,
   "outputs":[
    {
     "data":{
      "text\/html":[
       "<div>\n",
       "<style scoped>\n",
       "    .dataframe tbody tr th:only-of-type {\n",
       "        vertical-align: middle;\n",
       "    }\n",
       "\n",
       "    .dataframe tbody tr th {\n",
       "        vertical-align: top;\n",
       "    }\n",
       "\n",
       "    .dataframe thead th {\n",
       "        text-align: right;\n",
       "    }\n",
       "<\/style>\n",
       "<table border=\"1\" class=\"dataframe\">\n",
       "  <thead>\n",
       "    <tr style=\"text-align: right;\">\n",
       "      <th><\/th>\n",
       "      <th>Unnamed: 0<\/th>\n",
       "      <th>Type<\/th>\n",
       "      <th>Sentiment<\/th>\n",
       "      <th>Score<\/th>\n",
       "    <\/tr>\n",
       "  <\/thead>\n",
       "  <tbody>\n",
       "    <tr>\n",
       "      <th>0<\/th>\n",
       "      <td>0<\/td>\n",
       "      <td>heart<\/td>\n",
       "      <td>positive<\/td>\n",
       "      <td>60<\/td>\n",
       "    <\/tr>\n",
       "    <tr>\n",
       "      <th>1<\/th>\n",
       "      <td>1<\/td>\n",
       "      <td>want<\/td>\n",
       "      <td>positive<\/td>\n",
       "      <td>70<\/td>\n",
       "    <\/tr>\n",
       "    <tr>\n",
       "      <th>2<\/th>\n",
       "      <td>2<\/td>\n",
       "      <td>disgust<\/td>\n",
       "      <td>negative<\/td>\n",
       "      <td>0<\/td>\n",
       "    <\/tr>\n",
       "    <tr>\n",
       "      <th>3<\/th>\n",
       "      <td>3<\/td>\n",
       "      <td>hate<\/td>\n",
       "      <td>negative<\/td>\n",
       "      <td>5<\/td>\n",
       "    <\/tr>\n",
       "    <tr>\n",
       "      <th>4<\/th>\n",
       "      <td>4<\/td>\n",
       "      <td>interested<\/td>\n",
       "      <td>positive<\/td>\n",
       "      <td>30<\/td>\n",
       "    <\/tr>\n",
       "    <tr>\n",
       "      <th>5<\/th>\n",
       "      <td>5<\/td>\n",
       "      <td>indifferent<\/td>\n",
       "      <td>neutral<\/td>\n",
       "      <td>20<\/td>\n",
       "    <\/tr>\n",
       "    <tr>\n",
       "      <th>6<\/th>\n",
       "      <td>6<\/td>\n",
       "      <td>love<\/td>\n",
       "      <td>positive<\/td>\n",
       "      <td>65<\/td>\n",
       "    <\/tr>\n",
       "    <tr>\n",
       "      <th>7<\/th>\n",
       "      <td>7<\/td>\n",
       "      <td>super love<\/td>\n",
       "      <td>positive<\/td>\n",
       "      <td>75<\/td>\n",
       "    <\/tr>\n",
       "    <tr>\n",
       "      <th>8<\/th>\n",
       "      <td>8<\/td>\n",
       "      <td>cherish<\/td>\n",
       "      <td>positive<\/td>\n",
       "      <td>70<\/td>\n",
       "    <\/tr>\n",
       "    <tr>\n",
       "      <th>9<\/th>\n",
       "      <td>9<\/td>\n",
       "      <td>adore<\/td>\n",
       "      <td>positive<\/td>\n",
       "      <td>72<\/td>\n",
       "    <\/tr>\n",
       "    <tr>\n",
       "      <th>10<\/th>\n",
       "      <td>10<\/td>\n",
       "      <td>like<\/td>\n",
       "      <td>positive<\/td>\n",
       "      <td>50<\/td>\n",
       "    <\/tr>\n",
       "    <tr>\n",
       "      <th>11<\/th>\n",
       "      <td>11<\/td>\n",
       "      <td>dislike<\/td>\n",
       "      <td>negative<\/td>\n",
       "      <td>10<\/td>\n",
       "    <\/tr>\n",
       "    <tr>\n",
       "      <th>12<\/th>\n",
       "      <td>12<\/td>\n",
       "      <td>intrigued<\/td>\n",
       "      <td>positive<\/td>\n",
       "      <td>45<\/td>\n",
       "    <\/tr>\n",
       "    <tr>\n",
       "      <th>13<\/th>\n",
       "      <td>13<\/td>\n",
       "      <td>peeking<\/td>\n",
       "      <td>neutral<\/td>\n",
       "      <td>35<\/td>\n",
       "    <\/tr>\n",
       "    <tr>\n",
       "      <th>14<\/th>\n",
       "      <td>14<\/td>\n",
       "      <td>scared<\/td>\n",
       "      <td>negative<\/td>\n",
       "      <td>15<\/td>\n",
       "    <\/tr>\n",
       "    <tr>\n",
       "      <th>15<\/th>\n",
       "      <td>15<\/td>\n",
       "      <td>worried<\/td>\n",
       "      <td>negative<\/td>\n",
       "      <td>12<\/td>\n",
       "    <\/tr>\n",
       "  <\/tbody>\n",
       "<\/table>\n",
       "<\/div>"
      ]
     },
     "metadata":{
      
     },
     "output_type":"display_data"
    }
   ],
   "metadata":{
    "datalore":{
     "node_id":"fvi856TFCpFmfKxsFsyz5P",
     "type":"CODE",
     "hide_input_from_viewers":true,
     "hide_output_from_viewers":true
    }
   }
  },
  {
   "cell_type":"code",
   "source":[
    "from lets_plot import * \n",
    "ggplot() + \\\n",
    "geom_point(aes(x=\"Type\", y=\"Score\", color=\"Sentiment\"), data=reaction_types, sampling=\"none\" if reaction_types.size < 2500 else sampling_systematic(n=2500)) + \\\n",
    "ggtitle(\"Reaction types\") "
   ],
   "execution_count":7,
   "outputs":[
    {
     "data":{
      "text\/html":[
       "<html lang=\"en\">\n",
       "   <head>\n",
       "       <script type=\"text\/javascript\" data-lets-plot-script=\"library\" src=\"https:\/\/cdn.jsdelivr.net\/gh\/JetBrains\/lets-plot@v3.0.0\/js-package\/distr\/lets-plot.min.js\"><\/script>\n",
       "   <\/head>\n",
       "   <body>\n",
       "          <div id=\"muuIGF\"><\/div>\n",
       "   <script type=\"text\/javascript\" data-lets-plot-script=\"plot\">\n",
       "       var plotSpec={\n",
       "\"mapping\":{\n",
       "},\n",
       "\"data_meta\":{\n",
       "},\n",
       "\"ggtitle\":{\n",
       "\"text\":\"Reaction types\"\n",
       "},\n",
       "\"kind\":\"plot\",\n",
       "\"scales\":[],\n",
       "\"layers\":[{\n",
       "\"geom\":\"point\",\n",
       "\"data\":{\n",
       "\"Type\":[\"heart\",\"want\",\"disgust\",\"hate\",\"interested\",\"indifferent\",\"love\",\"super love\",\"cherish\",\"adore\",\"like\",\"dislike\",\"intrigued\",\"peeking\",\"scared\",\"worried\"],\n",
       "\"Sentiment\":[\"positive\",\"positive\",\"negative\",\"negative\",\"positive\",\"neutral\",\"positive\",\"positive\",\"positive\",\"positive\",\"positive\",\"negative\",\"positive\",\"neutral\",\"negative\",\"negative\"],\n",
       "\"Score\":[60.0,70.0,0.0,5.0,30.0,20.0,65.0,75.0,70.0,72.0,50.0,10.0,45.0,35.0,15.0,12.0]\n",
       "},\n",
       "\"mapping\":{\n",
       "\"x\":\"Type\",\n",
       "\"y\":\"Score\",\n",
       "\"color\":\"Sentiment\"\n",
       "},\n",
       "\"sampling\":\"none\",\n",
       "\"data_meta\":{\n",
       "}\n",
       "}],\n",
       "\"metainfo_list\":[]\n",
       "};\n",
       "       var plotContainer = document.getElementById(\"muuIGF\");\n",
       "       LetsPlot.buildPlotFromProcessedSpecs(plotSpec, -1, -1, plotContainer);\n",
       "   <\/script>\n",
       "   <\/body>\n",
       "<\/html>"
      ]
     },
     "metadata":{
      
     },
     "output_type":"display_data"
    }
   ],
   "metadata":{
    "datalore":{
     "node_id":"TtXt09qEJ29WQr7h8vIkDL",
     "type":"PLOT",
     "hide_input_from_viewers":true,
     "hide_output_from_viewers":true,
     "plot_state":{
      "label":"Reaction types",
      "sampling":true,
      "reactive":true,
      "plots":[
       {
        "type":"POINT",
        "variable":"reaction_types",
        "xAxis":{
         "label":"",
         "value":"Type",
         "scale":"NONE"
        },
        "yAxis":{
         "label":"",
         "value":"Score",
         "scale":"NONE"
        },
        "colorAxis":{
         "label":"",
         "value":"Sentiment",
         "scale":"NONE"
        }
       }
      ]
     }
    }
   }
  }
 ],
 "metadata":{
  "kernelspec":{
   "display_name":"Python",
   "language":"python",
   "name":"python"
  },
  "datalore":{
   "version":1,
   "computation_mode":"JUPYTER",
   "package_manager":"pip",
   "base_environment":"default",
   "packages":[
    
   ]
  }
 },
 "nbformat":4,
 "nbformat_minor":4
}